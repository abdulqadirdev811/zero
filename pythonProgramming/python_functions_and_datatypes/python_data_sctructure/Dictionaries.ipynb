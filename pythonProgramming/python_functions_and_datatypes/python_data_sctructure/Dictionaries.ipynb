{
  "cells": [
    {
      "cell_type": "code",
      "execution_count": null,
      "metadata": {
        "collapsed": true,
        "id": "hqiexyJ438eN"
      },
      "outputs": [],
      "source": [
        "# Contents\n",
        "## 1. Dictionaries\n",
        "## 2. Dictionary as a set of counters\n",
        "## 3. Looping and dictionaries\n"
      ]
    },
    {
      "cell_type": "markdown",
      "metadata": {
        "id": "P2G54tam38eT"
      },
      "source": [
        "# 1. Dictionaries"
      ]
    },
    {
      "cell_type": "markdown",
      "metadata": {
        "id": "FzqNUZl738eW"
      },
      "source": [
        "1. A dictionary is like a list, but more general.\n",
        "2. In a list, the positions (a.k.a. indices) have to be integers; in a dictionary the indices can be (almost) any type.\n",
        "3. You can think of a dictionary as a mapping between a set of indices (which are called keys) and a set of values.\n",
        "4. Each key maps to a value.\n",
        "5. The association of a key and a value is called a key-value pair or sometimes an item.\n",
        "6. As an example, we’ll build a dictionary that maps from English to Spanish words,so the keys and the values are all strings.\n",
        "7. The function dict creates a new dictionary with no items.\n",
        "8. Because dict is the name of a built-in function, you should avoid using it as a variable name."
      ]
    },
    {
      "cell_type": "code",
      "execution_count": null,
      "metadata": {
        "id": "dSxBLmJX38eY",
        "outputId": "3c35ef8e-d6f7-46e1-9fe9-068dfd12887e"
      },
      "outputs": [
        {
          "name": "stdout",
          "output_type": "stream",
          "text": [
            "{}\n"
          ]
        }
      ],
      "source": [
        "eng2sp = dict()\n",
        "print(eng2sp)"
      ]
    },
    {
      "cell_type": "raw",
      "metadata": {
        "id": "4WEJNTdw38ec"
      },
      "source": [
        "The squiggly-brackets, {}, represent an empty dictionary.\n",
        "To add items to the dictionary, you can use square brackets:"
      ]
    },
    {
      "cell_type": "code",
      "execution_count": null,
      "metadata": {
        "collapsed": true,
        "id": "MGhLGCQk38ec"
      },
      "outputs": [],
      "source": [
        "# This line creates an item that maps from the key ’one’ to the value 'uno'.\n",
        "eng2sp['one'] = 'uno'"
      ]
    },
    {
      "cell_type": "code",
      "execution_count": null,
      "metadata": {
        "id": "c-NR2xBO38ed",
        "outputId": "5b889c7e-e5fd-4694-c49c-150c94f15093"
      },
      "outputs": [
        {
          "name": "stdout",
          "output_type": "stream",
          "text": [
            "{'one': 'uno'}\n"
          ]
        }
      ],
      "source": [
        "print(eng2sp)"
      ]
    },
    {
      "cell_type": "code",
      "execution_count": null,
      "metadata": {
        "collapsed": true,
        "id": "01isgy0n38ee"
      },
      "outputs": [],
      "source": [
        "# This output format is also an input format. For example, you can create a new dictionary\n",
        "# with three items:\n",
        "eng2sp = {'one': 'uno', 'two': 'dos', 'three': 'tres'}"
      ]
    },
    {
      "cell_type": "code",
      "execution_count": null,
      "metadata": {
        "id": "WYuX5iQk38ef",
        "outputId": "84dc2aca-5849-4414-8041-4c82386c39aa"
      },
      "outputs": [
        {
          "name": "stdout",
          "output_type": "stream",
          "text": [
            "{'one': 'uno', 'two': 'dos', 'three': 'tres'}\n"
          ]
        }
      ],
      "source": [
        "print(eng2sp)"
      ]
    },
    {
      "cell_type": "code",
      "execution_count": null,
      "metadata": {
        "id": "VHzvU3Dr38eh",
        "outputId": "f5c6a4e6-f573-4f89-cdf6-7db26dcb342d"
      },
      "outputs": [
        {
          "name": "stdout",
          "output_type": "stream",
          "text": [
            "dos\n"
          ]
        }
      ],
      "source": [
        "# you use the keys to look up the corresponding values:\n",
        "print (eng2sp['two'])"
      ]
    },
    {
      "cell_type": "code",
      "execution_count": null,
      "metadata": {
        "id": "jbbA8qSS38ei",
        "outputId": "21ae4c8e-7353-4a91-8417-9a6178ada83c"
      },
      "outputs": [
        {
          "ename": "KeyError",
          "evalue": "'four'",
          "output_type": "error",
          "traceback": [
            "\u001b[1;31m---------------------------------------------------------------------------\u001b[0m",
            "\u001b[1;31mKeyError\u001b[0m                                  Traceback (most recent call last)",
            "\u001b[1;32m<ipython-input-23-bf4587ab42a7>\u001b[0m in \u001b[0;36m<module>\u001b[1;34m()\u001b[0m\n\u001b[0;32m      1\u001b[0m \u001b[1;31m# If the key isn’t in the dictionary, you get an exception:\u001b[0m\u001b[1;33m\u001b[0m\u001b[1;33m\u001b[0m\u001b[0m\n\u001b[1;32m----> 2\u001b[1;33m \u001b[0mprint\u001b[0m \u001b[1;33m(\u001b[0m\u001b[0meng2sp\u001b[0m\u001b[1;33m[\u001b[0m\u001b[1;34m'four'\u001b[0m\u001b[1;33m]\u001b[0m\u001b[1;33m)\u001b[0m\u001b[1;33m\u001b[0m\u001b[0m\n\u001b[0m",
            "\u001b[1;31mKeyError\u001b[0m: 'four'"
          ]
        }
      ],
      "source": [
        "# If the key isn’t in the dictionary, you get an exception:\n",
        "print (eng2sp['four'])"
      ]
    },
    {
      "cell_type": "code",
      "execution_count": null,
      "metadata": {
        "id": "YepyCXvE38ej",
        "outputId": "d47e35e3-a7bf-41f8-f1e3-4191e6e6552a"
      },
      "outputs": [
        {
          "data": {
            "text/plain": [
              "3"
            ]
          },
          "execution_count": 24,
          "metadata": {},
          "output_type": "execute_result"
        }
      ],
      "source": [
        "# The len function works on dictionaries; it returns the number of key-value pairs:\n",
        "len(eng2sp)"
      ]
    },
    {
      "cell_type": "code",
      "execution_count": null,
      "metadata": {
        "id": "wWf6FJhq38ek",
        "outputId": "6f66d41d-22ce-44bb-fcfd-507297b23953"
      },
      "outputs": [
        {
          "data": {
            "text/plain": [
              "True"
            ]
          },
          "execution_count": 25,
          "metadata": {},
          "output_type": "execute_result"
        }
      ],
      "source": [
        "# The in operator works on dictionaries; it tells you whether something appears as\n",
        "# a key in the dictionary (appearing as a value is not good enough).\n",
        "'one' in eng2sp"
      ]
    },
    {
      "cell_type": "code",
      "execution_count": null,
      "metadata": {
        "id": "vAA1AVlM38el",
        "outputId": "122d9009-f60e-40fb-ded4-c7525ec8cca4"
      },
      "outputs": [
        {
          "data": {
            "text/plain": [
              "False"
            ]
          },
          "execution_count": 26,
          "metadata": {},
          "output_type": "execute_result"
        }
      ],
      "source": [
        "'uno' in eng2sp"
      ]
    },
    {
      "cell_type": "code",
      "execution_count": null,
      "metadata": {
        "id": "SlBlBefb38em",
        "outputId": "1f75d1ce-0bb8-44ee-8b26-61eff320907e"
      },
      "outputs": [
        {
          "data": {
            "text/plain": [
              "True"
            ]
          },
          "execution_count": 27,
          "metadata": {},
          "output_type": "execute_result"
        }
      ],
      "source": [
        "# To see whether something appears as a value in a dictionary, you can use the\n",
        "# method values, which returns the values as a list, and then use the in operator:\n",
        "vals = eng2sp.values()\n",
        "'uno' in vals"
      ]
    },
    {
      "cell_type": "markdown",
      "metadata": {
        "id": "MV3etyMF38en"
      },
      "source": [
        "# 2. Dictionary as a set of counters"
      ]
    },
    {
      "cell_type": "code",
      "execution_count": null,
      "metadata": {
        "id": "epmjWkxM38en",
        "outputId": "15038201-3c72-4861-865b-26996552e034"
      },
      "outputs": [
        {
          "name": "stdout",
          "output_type": "stream",
          "text": [
            "{'b': 1, 'r': 2, 'o': 2, 'n': 1, 't': 1, 's': 2, 'a': 1, 'u': 2}\n"
          ]
        }
      ],
      "source": [
        "word = 'brontosaurus'\n",
        "d = dict()\n",
        "for c in word:\n",
        "    if c not in d:\n",
        "        d[c] = 1\n",
        "    else:\n",
        "        d[c] = d[c] + 1\n",
        "print (d)"
      ]
    },
    {
      "cell_type": "code",
      "execution_count": null,
      "metadata": {
        "id": "mnGoCPVP38eo",
        "outputId": "278764ec-8199-4fe2-c66d-83772daf0c56"
      },
      "outputs": [
        {
          "name": "stdout",
          "output_type": "stream",
          "text": [
            "100\n",
            "0\n"
          ]
        }
      ],
      "source": [
        "# Dictionaries have a method called get that takes a key and a default value. If the\n",
        "# key appears in the dictionary, get returns the corresponding value; otherwise it\n",
        "# returns the default value. For example:\n",
        "counts = { 'chuck' : 1 , 'annie' : 42, 'jan': 100}\n",
        "print (counts.get('jan', 0))\n",
        "print (counts.get('tim', 0))"
      ]
    },
    {
      "cell_type": "code",
      "execution_count": null,
      "metadata": {
        "collapsed": true,
        "id": "ftuIZDJc38ep"
      },
      "outputs": [],
      "source": [
        "# implement above code using get() method (no need to use if and else statement)\n",
        "\n"
      ]
    },
    {
      "cell_type": "code",
      "execution_count": null,
      "metadata": {
        "collapsed": true,
        "id": "Q07mResM38eq"
      },
      "outputs": [],
      "source": [
        "# count no of words in a file"
      ]
    },
    {
      "cell_type": "code",
      "execution_count": null,
      "metadata": {
        "id": "gNkh0Zte38eq",
        "outputId": "7bbda734-bac2-4a88-a759-007c6f6c5ef6"
      },
      "outputs": [
        {
          "name": "stdout",
          "output_type": "stream",
          "text": [
            "Enter the file name: test.txt\n",
            "{'Tony': 2, 'Blair': 1, 'became': 1, '\"obsessed\"': 1, 'with': 3, 'creating': 1, 'of': 2, 'bringing': 1, 'the': 10, 'UK': 3, 'together,': 1, 'their': 1, 'former': 1, 'prime': 1, 'minister': 1, 'has': 1, 'revealed.': 1, 'Rebel': 1, 'Tories': 1, 'and': 1, 'Labour': 4, 'MPs': 2, 'are': 1, 'planning': 1, 'a': 4, 'bill': 1, 'to': 3, 'stop': 1, 'leaving': 1, 'EU': 3, 'on': 2, '31': 2, 'October': 1, 'without': 1, 'deal.': 1, 'Mr': 1, 'Johnson': 2, 'said': 4, 'he': 1, 'did': 1, 'not': 2, 'want': 1, 'an': 2, 'election,': 1, 'but': 1, 'progress': 1, 'would': 2, 'be': 1, '\"impossible\"': 1, 'if': 1, 'win.': 1, 'Jeremy': 1, 'Corbyn': 1, 'Party': 1, 'was': 1, 'ready': 1, 'for': 1, 'general': 2, 'election.': 1, 'But': 1, 'shadow': 1, 'Northern': 1, 'Ireland': 1, 'secretary': 1, 'Lloyd': 1, 'later': 1, 'vote': 1, 'against': 1, 'any': 1, 'government': 1, 'plans': 1, 'hold': 1, 'election': 2, 'before': 1, 'is': 1, 'due': 1, 'leave': 1, 'October.': 1, 'He': 1, '\"will': 1, 'have': 1, 'Boris': 1, 'dictate': 1, 'terms': 1, 'that': 1, 'crashes': 1, 'this': 1, 'country': 1, 'out': 1, 'no': 1, 'deal\".': 1}\n"
          ]
        }
      ],
      "source": [
        "fname = input('Enter the file name: ')\n",
        "try:\n",
        "    fhand = open(fname)\n",
        "except:\n",
        "    print ('File cannot be opened:', fname)\n",
        "    exit()\n",
        "counts = dict()\n",
        "for line in fhand:\n",
        "    words = line.split()\n",
        "    for word in words:\n",
        "        if word not in counts:\n",
        "            counts[word] = 1\n",
        "        else:\n",
        "            counts[word] += 1\n",
        "print (counts)"
      ]
    },
    {
      "cell_type": "markdown",
      "metadata": {
        "id": "LO3E0gbU38er"
      },
      "source": [
        "# 3. Looping and dictionaries"
      ]
    },
    {
      "cell_type": "code",
      "execution_count": null,
      "metadata": {
        "id": "kyW11sLB38es",
        "outputId": "16871d6d-d187-4d6d-c91e-2de4b898954f"
      },
      "outputs": [
        {
          "name": "stdout",
          "output_type": "stream",
          "text": [
            "chuck 1\n",
            "annie 42\n",
            "jan 100\n"
          ]
        }
      ],
      "source": [
        "# If you use a dictionary as the sequence in a for statement, it traverses the keys of\n",
        "# the dictionary. This loop prints each key and the corresponding value:\n",
        "counts = { 'chuck' : 1 , 'annie' : 42, 'jan': 100}\n",
        "for key in counts:\n",
        "    print (key, counts[key])"
      ]
    },
    {
      "cell_type": "markdown",
      "metadata": {
        "id": "XWo6Zbc-38es"
      },
      "source": [
        "If you want to print the keys in alphabetical order, you first make a list of the keys\n",
        "in the dictionary using the keys method available in dictionary objects, and then\n",
        "sort that list and loop through the sorted list, looking up each key printing out\n",
        "key/value pairs in sorted order as follows as follows:"
      ]
    },
    {
      "cell_type": "code",
      "execution_count": null,
      "metadata": {
        "id": "0Mn7TDHq38et",
        "outputId": "d9cae327-38fb-4253-acf1-1058a915a4d8"
      },
      "outputs": [
        {
          "name": "stdout",
          "output_type": "stream",
          "text": [
            "['chuck', 'annie', 'jan']\n",
            "annie 42\n",
            "chuck 1\n",
            "jan 100\n"
          ]
        }
      ],
      "source": [
        "counts = { 'chuck' : 1 , 'annie' : 42, 'jan': 100}\n",
        "lst = list(counts.keys())\n",
        "print (lst)\n",
        "lst.sort()\n",
        "for key in lst:\n",
        "    print (key, counts[key])"
      ]
    },
    {
      "cell_type": "code",
      "execution_count": null,
      "metadata": {
        "collapsed": true,
        "id": "iS-Kx7f638eu"
      },
      "outputs": [],
      "source": []
    }
  ],
  "metadata": {
    "kernelspec": {
      "display_name": "Python 3",
      "language": "python",
      "name": "python3"
    },
    "language_info": {
      "codemirror_mode": {
        "name": "ipython",
        "version": 3
      },
      "file_extension": ".py",
      "mimetype": "text/x-python",
      "name": "python",
      "nbconvert_exporter": "python",
      "pygments_lexer": "ipython3",
      "version": "3.8.8"
    },
    "colab": {
      "provenance": []
    }
  },
  "nbformat": 4,
  "nbformat_minor": 0
}